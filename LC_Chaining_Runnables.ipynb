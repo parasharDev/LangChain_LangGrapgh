{
  "nbformat": 4,
  "nbformat_minor": 0,
  "metadata": {
    "colab": {
      "provenance": [],
      "authorship_tag": "ABX9TyPv3EDG5vMOvMhU94p8EsV4",
      "include_colab_link": true
    },
    "kernelspec": {
      "name": "python3",
      "display_name": "Python 3"
    },
    "language_info": {
      "name": "python"
    }
  },
  "cells": [
    {
      "cell_type": "markdown",
      "metadata": {
        "id": "view-in-github",
        "colab_type": "text"
      },
      "source": [
        "<a href=\"https://colab.research.google.com/github/parasharDev/LangChain_LangGrapgh/blob/main/LC_Chaining_Runnables.ipynb\" target=\"_parent\"><img src=\"https://colab.research.google.com/assets/colab-badge.svg\" alt=\"Open In Colab\"/></a>"
      ]
    },
    {
      "cell_type": "code",
      "source": [
        "!pip install langchain[groq]"
      ],
      "metadata": {
        "colab": {
          "base_uri": "https://localhost:8080/"
        },
        "id": "pjw0R7LPZuTh",
        "outputId": "19db9877-1ecc-48b2-cfa0-affb532e4e5d"
      },
      "execution_count": 1,
      "outputs": [
        {
          "output_type": "stream",
          "name": "stdout",
          "text": [
            "Requirement already satisfied: langchain[groq] in /usr/local/lib/python3.12/dist-packages (0.3.27)\n",
            "Requirement already satisfied: langchain-core<1.0.0,>=0.3.72 in /usr/local/lib/python3.12/dist-packages (from langchain[groq]) (0.3.79)\n",
            "Requirement already satisfied: langchain-text-splitters<1.0.0,>=0.3.9 in /usr/local/lib/python3.12/dist-packages (from langchain[groq]) (0.3.11)\n",
            "Requirement already satisfied: langsmith>=0.1.17 in /usr/local/lib/python3.12/dist-packages (from langchain[groq]) (0.4.38)\n",
            "Requirement already satisfied: pydantic<3.0.0,>=2.7.4 in /usr/local/lib/python3.12/dist-packages (from langchain[groq]) (2.11.10)\n",
            "Requirement already satisfied: SQLAlchemy<3,>=1.4 in /usr/local/lib/python3.12/dist-packages (from langchain[groq]) (2.0.44)\n",
            "Requirement already satisfied: requests<3,>=2 in /usr/local/lib/python3.12/dist-packages (from langchain[groq]) (2.32.4)\n",
            "Requirement already satisfied: PyYAML>=5.3 in /usr/local/lib/python3.12/dist-packages (from langchain[groq]) (6.0.3)\n",
            "Collecting langchain-groq (from langchain[groq])\n",
            "  Downloading langchain_groq-1.0.0-py3-none-any.whl.metadata (1.7 kB)\n",
            "Requirement already satisfied: tenacity!=8.4.0,<10.0.0,>=8.1.0 in /usr/local/lib/python3.12/dist-packages (from langchain-core<1.0.0,>=0.3.72->langchain[groq]) (8.5.0)\n",
            "Requirement already satisfied: jsonpatch<2.0.0,>=1.33.0 in /usr/local/lib/python3.12/dist-packages (from langchain-core<1.0.0,>=0.3.72->langchain[groq]) (1.33)\n",
            "Requirement already satisfied: typing-extensions<5.0.0,>=4.7.0 in /usr/local/lib/python3.12/dist-packages (from langchain-core<1.0.0,>=0.3.72->langchain[groq]) (4.15.0)\n",
            "Requirement already satisfied: packaging<26.0.0,>=23.2.0 in /usr/local/lib/python3.12/dist-packages (from langchain-core<1.0.0,>=0.3.72->langchain[groq]) (25.0)\n",
            "Requirement already satisfied: httpx<1,>=0.23.0 in /usr/local/lib/python3.12/dist-packages (from langsmith>=0.1.17->langchain[groq]) (0.28.1)\n",
            "Requirement already satisfied: orjson>=3.9.14 in /usr/local/lib/python3.12/dist-packages (from langsmith>=0.1.17->langchain[groq]) (3.11.4)\n",
            "Requirement already satisfied: requests-toolbelt>=1.0.0 in /usr/local/lib/python3.12/dist-packages (from langsmith>=0.1.17->langchain[groq]) (1.0.0)\n",
            "Requirement already satisfied: zstandard>=0.23.0 in /usr/local/lib/python3.12/dist-packages (from langsmith>=0.1.17->langchain[groq]) (0.25.0)\n",
            "Requirement already satisfied: annotated-types>=0.6.0 in /usr/local/lib/python3.12/dist-packages (from pydantic<3.0.0,>=2.7.4->langchain[groq]) (0.7.0)\n",
            "Requirement already satisfied: pydantic-core==2.33.2 in /usr/local/lib/python3.12/dist-packages (from pydantic<3.0.0,>=2.7.4->langchain[groq]) (2.33.2)\n",
            "Requirement already satisfied: typing-inspection>=0.4.0 in /usr/local/lib/python3.12/dist-packages (from pydantic<3.0.0,>=2.7.4->langchain[groq]) (0.4.2)\n",
            "Requirement already satisfied: charset_normalizer<4,>=2 in /usr/local/lib/python3.12/dist-packages (from requests<3,>=2->langchain[groq]) (3.4.4)\n",
            "Requirement already satisfied: idna<4,>=2.5 in /usr/local/lib/python3.12/dist-packages (from requests<3,>=2->langchain[groq]) (3.11)\n",
            "Requirement already satisfied: urllib3<3,>=1.21.1 in /usr/local/lib/python3.12/dist-packages (from requests<3,>=2->langchain[groq]) (2.5.0)\n",
            "Requirement already satisfied: certifi>=2017.4.17 in /usr/local/lib/python3.12/dist-packages (from requests<3,>=2->langchain[groq]) (2025.10.5)\n",
            "Requirement already satisfied: greenlet>=1 in /usr/local/lib/python3.12/dist-packages (from SQLAlchemy<3,>=1.4->langchain[groq]) (3.2.4)\n",
            "Collecting groq<1.0.0,>=0.30.0 (from langchain-groq->langchain[groq])\n",
            "  Downloading groq-0.33.0-py3-none-any.whl.metadata (16 kB)\n",
            "INFO: pip is looking at multiple versions of langchain-groq to determine which version is compatible with other requirements. This could take a while.\n",
            "Collecting langchain-groq (from langchain[groq])\n",
            "  Downloading langchain_groq-0.3.8-py3-none-any.whl.metadata (2.6 kB)\n",
            "Requirement already satisfied: anyio<5,>=3.5.0 in /usr/local/lib/python3.12/dist-packages (from groq<1.0.0,>=0.30.0->langchain-groq->langchain[groq]) (4.11.0)\n",
            "Requirement already satisfied: distro<2,>=1.7.0 in /usr/local/lib/python3.12/dist-packages (from groq<1.0.0,>=0.30.0->langchain-groq->langchain[groq]) (1.9.0)\n",
            "Requirement already satisfied: sniffio in /usr/local/lib/python3.12/dist-packages (from groq<1.0.0,>=0.30.0->langchain-groq->langchain[groq]) (1.3.1)\n",
            "Requirement already satisfied: httpcore==1.* in /usr/local/lib/python3.12/dist-packages (from httpx<1,>=0.23.0->langsmith>=0.1.17->langchain[groq]) (1.0.9)\n",
            "Requirement already satisfied: h11>=0.16 in /usr/local/lib/python3.12/dist-packages (from httpcore==1.*->httpx<1,>=0.23.0->langsmith>=0.1.17->langchain[groq]) (0.16.0)\n",
            "Requirement already satisfied: jsonpointer>=1.9 in /usr/local/lib/python3.12/dist-packages (from jsonpatch<2.0.0,>=1.33.0->langchain-core<1.0.0,>=0.3.72->langchain[groq]) (3.0.0)\n",
            "Downloading langchain_groq-0.3.8-py3-none-any.whl (16 kB)\n",
            "Downloading groq-0.33.0-py3-none-any.whl (135 kB)\n",
            "\u001b[2K   \u001b[90m━━━━━━━━━━━━━━━━━━━━━━━━━━━━━━━━━━━━━━━━\u001b[0m \u001b[32m135.8/135.8 kB\u001b[0m \u001b[31m2.7 MB/s\u001b[0m eta \u001b[36m0:00:00\u001b[0m\n",
            "\u001b[?25hInstalling collected packages: groq, langchain-groq\n",
            "Successfully installed groq-0.33.0 langchain-groq-0.3.8\n"
          ]
        }
      ]
    },
    {
      "cell_type": "code",
      "execution_count": 2,
      "metadata": {
        "id": "2RNLDc--Yf-y"
      },
      "outputs": [],
      "source": [
        "from google.colab import userdata\n",
        "import os\n",
        "\n",
        "os.environ['GROQ_API_KEY'] = userdata.get('groqApiKey')"
      ]
    },
    {
      "cell_type": "markdown",
      "source": [
        "# Chaining"
      ],
      "metadata": {
        "id": "-_MrisPmf1Yo"
      }
    },
    {
      "cell_type": "code",
      "source": [
        "from langchain.chat_models import init_chat_model\n",
        "\n",
        "llm = init_chat_model(\"llama-3.1-8b-instant\", model_provider=\"groq\")"
      ],
      "metadata": {
        "id": "6ECk1nnSZjvl"
      },
      "execution_count": 3,
      "outputs": []
    },
    {
      "cell_type": "code",
      "source": [
        "from langchain_core.prompts import PromptTemplate\n",
        "\n",
        "from langchain_core.output_parsers import StrOutputParser\n",
        "\n",
        "movie_title_template = PromptTemplate.from_template(\"Suggest me one title of a movie to watch in language {language} and genre {genre} and only title\")\n",
        "\n",
        "movie_title_chain = movie_title_template | llm | StrOutputParser()\n",
        "\n",
        "movie_title_chain.invoke({\"language\": \"English\", \"genre\": \"Action\"})"
      ],
      "metadata": {
        "colab": {
          "base_uri": "https://localhost:8080/",
          "height": 35
        },
        "id": "oh0jAPgSaB1F",
        "outputId": "853458dc-208a-4fee-bfe4-35b2353b12ca"
      },
      "execution_count": 4,
      "outputs": [
        {
          "output_type": "execute_result",
          "data": {
            "text/plain": [
              "'Casino Royale'"
            ],
            "application/vnd.google.colaboratory.intrinsic+json": {
              "type": "string"
            }
          },
          "metadata": {},
          "execution_count": 4
        }
      ]
    },
    {
      "cell_type": "code",
      "source": [
        "movie_summary_template = PromptTemplate.from_template(\"Write a short summary of the movie {movie_title}\")"
      ],
      "metadata": {
        "id": "ifp6KYx6bmBQ"
      },
      "execution_count": 5,
      "outputs": []
    },
    {
      "cell_type": "code",
      "source": [
        "composed_chain = {\"movie_title\":movie_title_chain} | movie_summary_template | llm | StrOutputParser()"
      ],
      "metadata": {
        "id": "L18iVLXgdhwQ"
      },
      "execution_count": 8,
      "outputs": []
    },
    {
      "cell_type": "code",
      "source": [
        "composed_chain.invoke({\"language\": \"English\", \"genre\": \"Action\"})"
      ],
      "metadata": {
        "colab": {
          "base_uri": "https://localhost:8080/",
          "height": 87
        },
        "id": "ZiqoFXjKeLZE",
        "outputId": "4fff39f5-44c0-4d07-8fe7-4e83be2dad1b"
      },
      "execution_count": 9,
      "outputs": [
        {
          "output_type": "execute_result",
          "data": {
            "text/plain": [
              "'Red Notice is a 2021 action-comedy film directed by Rawson Marshall Thurber and starring Dwayne Johnson, Ryan Reynolds, and Gal Gadot. The movie follows an FBI agent named John Hartley (played by Johnson), who is tasked with tracking down the world\\'s greatest art thief, The Bishop (played by Reynolds). However, their cat-and-mouse game is complicated when they are joined by a brilliant con artist, Nolan Booth (played by Reynolds), and the seductive thief, \"The Bishop\\'s\" real identity, Nolan\\'s ex-partner, The Bishop (played by Gadot).\\n\\nAs the story unfolds, the true identity of the Bishop is revealed, and the movie takes a hilarious turn with unexpected twists and turns. The cast delivers an entertaining performance, making Red Notice a thrilling and comedic ride filled with action, humor, and heart.'"
            ],
            "application/vnd.google.colaboratory.intrinsic+json": {
              "type": "string"
            }
          },
          "metadata": {},
          "execution_count": 9
        }
      ]
    },
    {
      "cell_type": "markdown",
      "source": [
        "Types of Chaining\n",
        "1. Sequential\n",
        "2. Parallel\n",
        "3. Conditional"
      ],
      "metadata": {
        "id": "64YbDUqRhx7b"
      }
    },
    {
      "cell_type": "markdown",
      "source": [
        "# Runnables"
      ],
      "metadata": {
        "id": "Srru9Z47f6sJ"
      }
    },
    {
      "cell_type": "markdown",
      "source": [
        "Arbitrary Functions are called Runnables.\n",
        "Custome Functions used as Runnables are called Runnable Lambdas"
      ],
      "metadata": {
        "id": "b8891o-lgHvs"
      }
    },
    {
      "cell_type": "code",
      "source": [
        "from langchain_core.runnables import RunnableLambda\n",
        "\n",
        "print_title_step = RunnableLambda(lambda x: (print(x), x)[1])\n",
        "\n",
        "composed_chain = {\"movie_title\":movie_title_chain} | print_title_step | movie_summary_template | llm | StrOutputParser()\n",
        "\n",
        "composed_chain.invoke({\"language\": \"English\", \"genre\": \"Comedy\"})\n"
      ],
      "metadata": {
        "colab": {
          "base_uri": "https://localhost:8080/",
          "height": 105
        },
        "id": "wt8Q1h1LeWN8",
        "outputId": "15e01cfe-56e3-4a79-a7f9-5c398ff5f7dd"
      },
      "execution_count": 14,
      "outputs": [
        {
          "output_type": "stream",
          "name": "stdout",
          "text": [
            "{'movie_title': 'The Hangover'}\n"
          ]
        },
        {
          "output_type": "execute_result",
          "data": {
            "text/plain": [
              "\"The Hangover is a 2009 American comedy film directed by Todd Phillips. The movie follows Phil Wenneck (Bradley Cooper), a teacher, and his friends Stu Price (Ed Helms), a dentist, and Alan Garner (Zach Galifianakis), his eccentric brother, as they travel to Las Vegas for Stu's wedding. The night before the wedding, the friends wake up in their hotel suite with no memory of the previous night's events. They soon discover that they have no recollection of what happened, and one of their friends, Doug Billings (Justin Bartha), is missing. As they try to piece together the events of the previous night and find Doug, they uncover a series of wild and outrageous events that they had no memory of. The movie is a raunchy and hilarious exploration of the consequences of excessive partying and the bonds of friendship.\""
            ],
            "application/vnd.google.colaboratory.intrinsic+json": {
              "type": "string"
            }
          },
          "metadata": {},
          "execution_count": 14
        }
      ]
    },
    {
      "cell_type": "markdown",
      "source": [
        "## Runnable Sequence"
      ],
      "metadata": {
        "id": "Kqm1fSiljeC-"
      }
    },
    {
      "cell_type": "code",
      "source": [
        "from langchain_core.runnables import RunnableSequence\n",
        "\n",
        "composed_chain = RunnableSequence({\"movie_title\":movie_title_chain} | print_title_step | movie_summary_template | llm | StrOutputParser())\n",
        "\n",
        "summary = composed_chain.invoke({\"language\": \"English\", \"genre\": \"biography\"})\n",
        "print(summary)"
      ],
      "metadata": {
        "colab": {
          "base_uri": "https://localhost:8080/"
        },
        "id": "wipo1kjdhvPI",
        "outputId": "33632982-a7ec-4990-89eb-27056af697b3"
      },
      "execution_count": 22,
      "outputs": [
        {
          "output_type": "stream",
          "name": "stdout",
          "text": [
            "{'movie_title': 'The Imitation Game'}\n",
            "\"The Imitation Game\" is a 2014 historical drama film directed by Morten Tyldum. The movie is based on the life of Alan Turing, a British mathematician and computer scientist who played a crucial role in cracking the German Enigma code during World War II.\n",
            "\n",
            "The film follows Turing (played by Benedict Cumberbatch) as he is recruited by the British government to lead a team of codebreakers at Bletchley Park. Despite his brilliant mathematical mind, Turing's eccentric and gay lifestyle makes him an outcast among his colleagues, and he faces prejudice and harassment from those around him.\n",
            "\n",
            "As Turing works tirelessly to crack the Enigma code, he develops a machine called the Bombe, which helps to decipher the code and provide crucial intelligence to the Allies. However, Turing's obsession with cracking the code takes a toll on his mental health, and he struggles with the pressures of being a genius in a world where he is constantly marginalized.\n",
            "\n",
            "The movie explores Turing's complex personality and his relationships with his colleagues, including Joan Clarke (played by Keira Knightley), a fellow codebreaker who becomes his closest friend and confidant. Ultimately, the film highlights Turing's groundbreaking contributions to the war effort and his tragic fate, which was marked by his persecution for his homosexuality and his eventual conviction for gross indecency.\n"
          ]
        }
      ]
    },
    {
      "cell_type": "markdown",
      "source": [
        "## Runnable Parallel"
      ],
      "metadata": {
        "id": "FhH4sdUPkO2S"
      }
    },
    {
      "cell_type": "code",
      "source": [
        "from langchain_core.runnables import RunnableParallel\n",
        "\n",
        "translate_hindi_chain = PromptTemplate.from_template(\"Translate the {summary} to hindi\") | llm | StrOutputParser()\n",
        "translate_spanish_chain = PromptTemplate.from_template(\"Translate the {summary} to spanish\") | llm | StrOutputParser()\n",
        "translate_runnable = RunnableParallel({\n",
        "    \"hindi\": translate_hindi_chain,\n",
        "    \"spanish\": translate_spanish_chain\n",
        "})\n",
        "translated_summary = translate_runnable.invoke({\"summary\": summary})"
      ],
      "metadata": {
        "colab": {
          "base_uri": "https://localhost:8080/"
        },
        "id": "Y-shc2gzim8M",
        "outputId": "e4feb442-2d10-465f-9257-661ec411d956"
      },
      "execution_count": 20,
      "outputs": [
        {
          "output_type": "execute_result",
          "data": {
            "text/plain": [
              "{'hindi': 'द सिम्युलेशन गेम 2014 की एक ब्रिटिश ऐतिहासिक नाटक फिल्म है, जिसका निर्देशन मॉर्टन टिल्डम ने किया है। फिल्म का आधार अलन ट्यूरिंग के जीवन पर आधारित है, जो एक ब्रिटिश गणितज्ञ, कंप्यूटर वैज्ञानिक और तर्कशास्त्रज्ञ थे जिन्होंने द्वितीय विश्व युद्ध के दौरान जर्मन एनिग्मा कोड को तोड़ने में महत्वपूर्ण भूमिका निभाई थी।\\n\\nफिल्म ट्यूरिंग की कहानी को दर्शाती है, जब वह ब्रिटिश सरकार द्वारा ब्लीटचली पार्क में एक टीम का नेतृत्व करने के लिए भर्ती किया जाता है और वहां उन्हें जर्मनों द्वारा उपयोग की जाने वाली एक जटिल क्रिप्टोग्राफिक सिस्टम, एनिग्मा कोड को तोड़ने के लिए एक मशीन, बॉम्ब का डिज़ाइन करना चाहिए। ट्यूरिंग, जो एक गे थे, उस समय के सामाजिक मान्यताओं के कारण अपने सच्चे स्वभाव को छुपाने के लिए मजबूर थे।\\n\\nट्यूरिंग ने एनिग्मा कोड को तोड़ने के लिए बॉम्ब मशीन का उपयोग किया, जो उनके सहयोगियों के विरोध और संदेह के बावजूद, अंततः कोड को तोड़ दिया, जिससे युद्ध के परिणाम में महत्वपूर्ण योगदान हुआ। \\n\\nफिल्म ने ट्यूरिंग के व्यक्तिगत संघर्षों को भी दर्शाया, जिसमें उनके संबंध और उनके द्वारा सामना की गई उनकी गैरकानूनी व्यभिचार के लिए ब्रिटिश सरकार की दमनकारी नीतियों के कारण। फिल्म में बेनेडिक्ट कंबरबैच ने ट्यूरिंग के रूप में एक शक्तिशाली प्रदर्शन दिया है और इसे कुछ पुरस्कारों से सम्मानित किया गया है, जिनमें एक अकादमी पुरस्कार भी शामिल है ।\\n\\nद सिम्युलेशन गेम एक शक्तिशाली और विचारोत्तेजक जीवनी नाटक है जो ट्यूरिंग के युद्ध प्रयासों के महत्वपूर्ण योगदान और उनके दमन के कारण के बारे में उजागर करती है।',\n",
              " 'spanish': '\"The Imitation Game\" es una película dramática histórica británica de 2014 dirigida por Morten Tyldum. La película se basa en la vida de Alan Turing, un matemático, científico de la computación y lógico británico que jugó un papel crucial en la desencriptación del código Enigma alemán durante la Segunda Guerra Mundial.\\n\\nLa película sigue la historia de Turing mientras es reclutado por el gobierno británico para liderar un equipo en Bletchley Park para descifrar el código Enigma, un sistema criptográfico complejo utilizado por los alemanes para enviar mensajes secretos. Turing, que es gay, es obligado a ocultar su verdadera naturaleza debido a las normas sociales de la época.\\n\\nTuring utiliza una máquina llamada Bombe, que él diseña, para ayudar a romper el código Enigma. A pesar de enfrentar la oposición y el escepticismo de sus colegas, Turing persevera y eventualmente logra descifrar el código, proporcionando inteligencia crucial a los Aliados que ayuda a cambiar el curso de la guerra.\\n\\nLa película explora las luchas personales de Turing, incluyendo sus relaciones y su persecución por parte del gobierno británico por su homosexualidad. La película presenta una fuerte actuación de Benedict Cumberbatch como Turing y ganó varios premios, incluyendo un Premio de la Academia al Mejor guion adaptado.\\n\\n\"El juego de la imitación\" es una poderosa y reflexiva biografía dramática que destaca las notables contribuciones de Turing al esfuerzo bélico y las trágicas consecuencias de su persecución.'}"
            ]
          },
          "metadata": {},
          "execution_count": 20
        }
      ]
    },
    {
      "cell_type": "code",
      "source": [],
      "metadata": {
        "id": "BeMpfmGDlsgn"
      },
      "execution_count": null,
      "outputs": []
    }
  ]
}