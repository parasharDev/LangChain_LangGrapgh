{
  "nbformat": 4,
  "nbformat_minor": 0,
  "metadata": {
    "colab": {
      "provenance": [],
      "authorship_tag": "ABX9TyN2YaIacpVNznZhKsEotvGg",
      "include_colab_link": true
    },
    "kernelspec": {
      "name": "python3",
      "display_name": "Python 3"
    },
    "language_info": {
      "name": "python"
    }
  },
  "cells": [
    {
      "cell_type": "markdown",
      "metadata": {
        "id": "view-in-github",
        "colab_type": "text"
      },
      "source": [
        "<a href=\"https://colab.research.google.com/github/parasharDev/LangChain_LangGrapgh/blob/main/LangGraph_Customer_Query_Automation.ipynb\" target=\"_parent\"><img src=\"https://colab.research.google.com/assets/colab-badge.svg\" alt=\"Open In Colab\"/></a>"
      ]
    },
    {
      "cell_type": "markdown",
      "source": [
        "## LangGraph"
      ],
      "metadata": {
        "id": "kqdWvfASln-R"
      }
    },
    {
      "cell_type": "code",
      "source": [
        "!pip install langchain langchain_core langchain_groq langchain_community langgraph"
      ],
      "metadata": {
        "id": "hO-4F_elmPYd",
        "colab": {
          "base_uri": "https://localhost:8080/"
        },
        "outputId": "b9a0ffba-f084-4e14-a845-3f61f0c2fdf6"
      },
      "execution_count": 1,
      "outputs": [
        {
          "output_type": "stream",
          "name": "stdout",
          "text": [
            "Requirement already satisfied: langchain in /usr/local/lib/python3.12/dist-packages (0.3.27)\n",
            "Requirement already satisfied: langchain_core in /usr/local/lib/python3.12/dist-packages (0.3.78)\n",
            "Requirement already satisfied: langchain_groq in /usr/local/lib/python3.12/dist-packages (0.3.8)\n",
            "Requirement already satisfied: langchain_community in /usr/local/lib/python3.12/dist-packages (0.3.31)\n",
            "Requirement already satisfied: langgraph in /usr/local/lib/python3.12/dist-packages (0.6.10)\n",
            "Requirement already satisfied: langchain-text-splitters<1.0.0,>=0.3.9 in /usr/local/lib/python3.12/dist-packages (from langchain) (0.3.11)\n",
            "Requirement already satisfied: langsmith>=0.1.17 in /usr/local/lib/python3.12/dist-packages (from langchain) (0.4.33)\n",
            "Requirement already satisfied: pydantic<3.0.0,>=2.7.4 in /usr/local/lib/python3.12/dist-packages (from langchain) (2.11.10)\n",
            "Requirement already satisfied: SQLAlchemy<3,>=1.4 in /usr/local/lib/python3.12/dist-packages (from langchain) (2.0.43)\n",
            "Requirement already satisfied: requests<3,>=2 in /usr/local/lib/python3.12/dist-packages (from langchain) (2.32.5)\n",
            "Requirement already satisfied: PyYAML>=5.3 in /usr/local/lib/python3.12/dist-packages (from langchain) (6.0.3)\n",
            "Requirement already satisfied: tenacity!=8.4.0,<10.0.0,>=8.1.0 in /usr/local/lib/python3.12/dist-packages (from langchain_core) (8.5.0)\n",
            "Requirement already satisfied: jsonpatch<2.0.0,>=1.33.0 in /usr/local/lib/python3.12/dist-packages (from langchain_core) (1.33)\n",
            "Requirement already satisfied: typing-extensions<5.0.0,>=4.7.0 in /usr/local/lib/python3.12/dist-packages (from langchain_core) (4.15.0)\n",
            "Requirement already satisfied: packaging<26.0.0,>=23.2.0 in /usr/local/lib/python3.12/dist-packages (from langchain_core) (25.0)\n",
            "Requirement already satisfied: groq<1,>=0.30.0 in /usr/local/lib/python3.12/dist-packages (from langchain_groq) (0.32.0)\n",
            "Requirement already satisfied: aiohttp<4.0.0,>=3.8.3 in /usr/local/lib/python3.12/dist-packages (from langchain_community) (3.13.0)\n",
            "Requirement already satisfied: dataclasses-json<0.7.0,>=0.6.7 in /usr/local/lib/python3.12/dist-packages (from langchain_community) (0.6.7)\n",
            "Requirement already satisfied: pydantic-settings<3.0.0,>=2.10.1 in /usr/local/lib/python3.12/dist-packages (from langchain_community) (2.11.0)\n",
            "Requirement already satisfied: httpx-sse<1.0.0,>=0.4.0 in /usr/local/lib/python3.12/dist-packages (from langchain_community) (0.4.2)\n",
            "Requirement already satisfied: numpy>=1.26.2 in /usr/local/lib/python3.12/dist-packages (from langchain_community) (2.0.2)\n",
            "Requirement already satisfied: langgraph-checkpoint<3.0.0,>=2.1.0 in /usr/local/lib/python3.12/dist-packages (from langgraph) (2.1.2)\n",
            "Requirement already satisfied: langgraph-prebuilt<0.7.0,>=0.6.0 in /usr/local/lib/python3.12/dist-packages (from langgraph) (0.6.4)\n",
            "Requirement already satisfied: langgraph-sdk<0.3.0,>=0.2.2 in /usr/local/lib/python3.12/dist-packages (from langgraph) (0.2.9)\n",
            "Requirement already satisfied: xxhash>=3.5.0 in /usr/local/lib/python3.12/dist-packages (from langgraph) (3.6.0)\n",
            "Requirement already satisfied: aiohappyeyeballs>=2.5.0 in /usr/local/lib/python3.12/dist-packages (from aiohttp<4.0.0,>=3.8.3->langchain_community) (2.6.1)\n",
            "Requirement already satisfied: aiosignal>=1.4.0 in /usr/local/lib/python3.12/dist-packages (from aiohttp<4.0.0,>=3.8.3->langchain_community) (1.4.0)\n",
            "Requirement already satisfied: attrs>=17.3.0 in /usr/local/lib/python3.12/dist-packages (from aiohttp<4.0.0,>=3.8.3->langchain_community) (25.4.0)\n",
            "Requirement already satisfied: frozenlist>=1.1.1 in /usr/local/lib/python3.12/dist-packages (from aiohttp<4.0.0,>=3.8.3->langchain_community) (1.8.0)\n",
            "Requirement already satisfied: multidict<7.0,>=4.5 in /usr/local/lib/python3.12/dist-packages (from aiohttp<4.0.0,>=3.8.3->langchain_community) (6.7.0)\n",
            "Requirement already satisfied: propcache>=0.2.0 in /usr/local/lib/python3.12/dist-packages (from aiohttp<4.0.0,>=3.8.3->langchain_community) (0.3.2)\n",
            "Requirement already satisfied: yarl<2.0,>=1.17.0 in /usr/local/lib/python3.12/dist-packages (from aiohttp<4.0.0,>=3.8.3->langchain_community) (1.22.0)\n",
            "Requirement already satisfied: marshmallow<4.0.0,>=3.18.0 in /usr/local/lib/python3.12/dist-packages (from dataclasses-json<0.7.0,>=0.6.7->langchain_community) (3.26.1)\n",
            "Requirement already satisfied: typing-inspect<1,>=0.4.0 in /usr/local/lib/python3.12/dist-packages (from dataclasses-json<0.7.0,>=0.6.7->langchain_community) (0.9.0)\n",
            "Requirement already satisfied: anyio<5,>=3.5.0 in /usr/local/lib/python3.12/dist-packages (from groq<1,>=0.30.0->langchain_groq) (4.11.0)\n",
            "Requirement already satisfied: distro<2,>=1.7.0 in /usr/local/lib/python3.12/dist-packages (from groq<1,>=0.30.0->langchain_groq) (1.9.0)\n",
            "Requirement already satisfied: httpx<1,>=0.23.0 in /usr/local/lib/python3.12/dist-packages (from groq<1,>=0.30.0->langchain_groq) (0.28.1)\n",
            "Requirement already satisfied: sniffio in /usr/local/lib/python3.12/dist-packages (from groq<1,>=0.30.0->langchain_groq) (1.3.1)\n",
            "Requirement already satisfied: jsonpointer>=1.9 in /usr/local/lib/python3.12/dist-packages (from jsonpatch<2.0.0,>=1.33.0->langchain_core) (3.0.0)\n",
            "Requirement already satisfied: ormsgpack>=1.10.0 in /usr/local/lib/python3.12/dist-packages (from langgraph-checkpoint<3.0.0,>=2.1.0->langgraph) (1.11.0)\n",
            "Requirement already satisfied: orjson>=3.10.1 in /usr/local/lib/python3.12/dist-packages (from langgraph-sdk<0.3.0,>=0.2.2->langgraph) (3.11.3)\n",
            "Requirement already satisfied: requests-toolbelt>=1.0.0 in /usr/local/lib/python3.12/dist-packages (from langsmith>=0.1.17->langchain) (1.0.0)\n",
            "Requirement already satisfied: zstandard>=0.23.0 in /usr/local/lib/python3.12/dist-packages (from langsmith>=0.1.17->langchain) (0.25.0)\n",
            "Requirement already satisfied: annotated-types>=0.6.0 in /usr/local/lib/python3.12/dist-packages (from pydantic<3.0.0,>=2.7.4->langchain) (0.7.0)\n",
            "Requirement already satisfied: pydantic-core==2.33.2 in /usr/local/lib/python3.12/dist-packages (from pydantic<3.0.0,>=2.7.4->langchain) (2.33.2)\n",
            "Requirement already satisfied: typing-inspection>=0.4.0 in /usr/local/lib/python3.12/dist-packages (from pydantic<3.0.0,>=2.7.4->langchain) (0.4.2)\n",
            "Requirement already satisfied: python-dotenv>=0.21.0 in /usr/local/lib/python3.12/dist-packages (from pydantic-settings<3.0.0,>=2.10.1->langchain_community) (1.1.1)\n",
            "Requirement already satisfied: charset_normalizer<4,>=2 in /usr/local/lib/python3.12/dist-packages (from requests<3,>=2->langchain) (3.4.3)\n",
            "Requirement already satisfied: idna<4,>=2.5 in /usr/local/lib/python3.12/dist-packages (from requests<3,>=2->langchain) (3.10)\n",
            "Requirement already satisfied: urllib3<3,>=1.21.1 in /usr/local/lib/python3.12/dist-packages (from requests<3,>=2->langchain) (2.5.0)\n",
            "Requirement already satisfied: certifi>=2017.4.17 in /usr/local/lib/python3.12/dist-packages (from requests<3,>=2->langchain) (2025.10.5)\n",
            "Requirement already satisfied: greenlet>=1 in /usr/local/lib/python3.12/dist-packages (from SQLAlchemy<3,>=1.4->langchain) (3.2.4)\n",
            "Requirement already satisfied: httpcore==1.* in /usr/local/lib/python3.12/dist-packages (from httpx<1,>=0.23.0->groq<1,>=0.30.0->langchain_groq) (1.0.9)\n",
            "Requirement already satisfied: h11>=0.16 in /usr/local/lib/python3.12/dist-packages (from httpcore==1.*->httpx<1,>=0.23.0->groq<1,>=0.30.0->langchain_groq) (0.16.0)\n",
            "Requirement already satisfied: mypy-extensions>=0.3.0 in /usr/local/lib/python3.12/dist-packages (from typing-inspect<1,>=0.4.0->dataclasses-json<0.7.0,>=0.6.7->langchain_community) (1.1.0)\n"
          ]
        }
      ]
    },
    {
      "cell_type": "code",
      "source": [
        "from typing_extensions import TypedDict, Dict\n",
        "from langgraph.graph import StateGraph, END\n",
        "from langchain_core.prompts import ChatPromptTemplate\n",
        "from langchain_core.runnables.graph import MermaidDrawMethod\n",
        "from IPython.display import display , Image"
      ],
      "metadata": {
        "id": "q_TIIUIuiOAq"
      },
      "execution_count": 2,
      "outputs": []
    },
    {
      "cell_type": "code",
      "source": [
        "from google.colab import userdata\n",
        "import os\n",
        "\n",
        "os.environ['GROQ_API_KEY'] = userdata.get('groqApiKey')\n",
        "from langchain.chat_models import init_chat_model\n",
        "llm = init_chat_model(\"llama-3.1-8b-instant\", model_provider=\"groq\")\n"
      ],
      "metadata": {
        "id": "JHRwtFGoj5P7"
      },
      "execution_count": 3,
      "outputs": []
    },
    {
      "cell_type": "code",
      "source": [
        "response = llm.invoke(\"Explain me about neural network\")\n",
        "response.content"
      ],
      "metadata": {
        "colab": {
          "base_uri": "https://localhost:8080/",
          "height": 105
        },
        "id": "SULgPqeHoyzV",
        "outputId": "7e52d67d-3ead-44d9-ed27-0bede1595ac4"
      },
      "execution_count": 4,
      "outputs": [
        {
          "output_type": "execute_result",
          "data": {
            "text/plain": [
              "'**Introduction to Neural Networks**\\n\\nA neural network is a computer system inspired by the structure and function of the human brain. It\\'s a type of machine learning model that\\'s capable of learning, recognizing patterns, and making decisions based on data. Neural networks are composed of interconnected nodes or \"neurons\" that process and transmit information.\\n\\n**Key Components of a Neural Network**\\n\\n1. **Neurons**: Also known as nodes or units, these are the basic building blocks of a neural network. Each neuron receives one or more inputs, performs a computation on those inputs, and then sends the output to other neurons.\\n2. **Connections**: These are the links between neurons that allow them to communicate with each other. Each connection has a weight associated with it, which determines the strength of the signal transmitted between neurons.\\n3. **Activation Functions**: These are mathematical functions that introduce non-linearity into the network, allowing it to learn and represent complex relationships between inputs and outputs.\\n4. **Layers**: Neural networks are typically organized into multiple layers, each with its own set of neurons and connections. The number and type of layers can vary depending on the specific architecture being used.\\n\\n**Types of Neural Networks**\\n\\n1. **Feedforward Networks**: In this type of network, the data flows only in one direction, from input to output, without any feedback loops.\\n2. **Recurrent Neural Networks (RNNs)**: RNNs have feedback connections, allowing the network to keep track of information over time and perform tasks like language translation and speech recognition.\\n3. **Convolutional Neural Networks (CNNs)**: CNNs are designed for image and video processing tasks and use convolutional and pooling layers to extract features from the input data.\\n\\n**How Neural Networks Work**\\n\\n1. **Training**: The network is trained on a dataset, where the inputs are fed into the network and the outputs are compared to the actual outputs.\\n2. **Forward Pass**: The input data flows through the network, with each layer transforming the data in some way.\\n3. **Backward Pass**: The error between the predicted output and the actual output is propagated backward through the network, adjusting the weights and biases of each connection.\\n4. **Weight Update**: The weights and biases are updated based on the error gradient, allowing the network to learn and improve its performance.\\n\\n**Applications of Neural Networks**\\n\\n1. **Image and Speech Recognition**\\n2. **Natural Language Processing (NLP)**: Sentiment analysis, language translation, and text generation\\n3. **Game Playing**: AlphaGo, a neural network-based system, defeated a human world champion in Go.\\n4. **Recommendation Systems**: Neural networks can be used to build personalized recommendation systems.\\n5. **Medical Diagnosis**: Neural networks can be used to detect diseases and predict patient outcomes.\\n\\n**Challenges and Limitations**\\n\\n1. **Overfitting**: Neural networks can be prone to overfitting, where the model becomes too specialized to the training data and fails to generalize well to new data.\\n2. **Computational Complexity**: Training large neural networks can be computationally expensive and require significant amounts of memory and computational power.\\n3. **Interpretability**: Neural networks can be difficult to interpret, making it challenging to understand why the model made a particular prediction.\\n\\nI hope this provides a good overview of neural networks!'"
            ],
            "application/vnd.google.colaboratory.intrinsic+json": {
              "type": "string"
            }
          },
          "metadata": {},
          "execution_count": 4
        }
      ]
    },
    {
      "cell_type": "markdown",
      "source": [
        "Creating State\n"
      ],
      "metadata": {
        "id": "lKL6L6xLEaq3"
      }
    },
    {
      "cell_type": "code",
      "source": [
        "class State(TypedDict):\n",
        "  query:str\n",
        "  category:str\n",
        "  sentiment:str\n",
        "  response:str"
      ],
      "metadata": {
        "id": "xRQdPdNNi3N_"
      },
      "execution_count": 5,
      "outputs": []
    },
    {
      "cell_type": "markdown",
      "source": [
        "Creating State Graph\n"
      ],
      "metadata": {
        "id": "nWPDLHrhEoJS"
      }
    },
    {
      "cell_type": "code",
      "source": [
        "def categorize(state:State)->State:\n",
        "  prompt = ChatPromptTemplate.from_template(\"Categorize the following query into one of the following categories: \" \"Techincal, Billing, General, Query:{query}\")\n",
        "  chain = prompt | llm\n",
        "  category = chain.invoke({\"query\":state[\"query\"]}).content\n",
        "  print(f\"\\nCategory:{category}\")\n",
        "  return { \"category\":category}\n",
        "\n",
        "def analyze_sentiment(state: State) -> State:\n",
        "  print(\"\\nAnalyzing the sentiment : \")\n",
        "  prompt = ChatPromptTemplate.from_template(\n",
        "      \"Analyze the sentiment of the following customer query and ans in word\"\n",
        "      \"Response with either 'Positive', 'Neutral' , or 'Negative'. Query: {query}\"\n",
        "  )\n",
        "  chain = prompt | llm\n",
        "  sentiment = chain.invoke({\"query\": state[\"query\"]}).content\n",
        "  print(f\"\\nSentiment : {sentiment}\")\n",
        "  return {\"sentiment\": sentiment}\n",
        "\n",
        "def handle_technical(state: State)->State:\n",
        "  print(\"\\nHandling the technical query\")\n",
        "  prompt = ChatPromptTemplate.from_template(\n",
        "      \"Provide a technical support response to the following query : {query}\"\n",
        "  )\n",
        "  chain = prompt | llm\n",
        "  response = chain.invoke({\"query\": state[\"query\"]}).content\n",
        "  return {\"response\": response}\n",
        "\n",
        "def handle_billing(state: State)->State:\n",
        "  print(\"\\nHandling the billing query\")\n",
        "  prompt = ChatPromptTemplate.from_template(\n",
        "      \"Provide a billing support response to the following query : {query}\"\n",
        "  )\n",
        "  chain = prompt | llm\n",
        "  response = chain.invoke({\"query\": state[\"query\"]}).content\n",
        "  return {\"response\": response}\n",
        "\n",
        "def handle_general(state: State)->State:\n",
        "  print(\"\\nHandling the general query\")\n",
        "  prompt = ChatPromptTemplate.from_template(\n",
        "      \"Provide a general support response to the following query : {query}\"\n",
        "  )\n",
        "  chain = prompt | llm\n",
        "  response = chain.invoke({\"query\": state[\"query\"]}).content\n",
        "  return {\"response\": response}\n",
        "\n",
        "def escalate(state: State)->State:\n",
        "  print(\"\\nEscalating Query\")\n",
        "  return {\"response\": \"This query has been escalate to a human agent due to its negative sentiment\"}\n",
        "\n",
        "\n",
        "def route_query(state: State)->State:\n",
        "  if \"negative\" in state[\"sentiment\"].lower(): # if state[\"sentiment\"] == \"Negative\":\n",
        "    return \"escalate\"\n",
        "  elif state[\"category\"] == \"Technical\":\n",
        "    return \"handle_technical\"\n",
        "  elif state[\"category\"] == \"Billing\":\n",
        "    return \"handle_billing\"\n",
        "  else:\n",
        "    return \"handle_general\"\n",
        "\n",
        "# returning a string from a conditional function like route_query,\n",
        "# LangGraph treats that string as the next node name to call.\n",
        "\n",
        "# Each function (like categorize, analyze_sentiment, etc.) returns a dictionary —\n",
        "# and LangGraph automatically merges those into the global state.\n"
      ],
      "metadata": {
        "id": "UlHaMi-RH9p2"
      },
      "execution_count": 13,
      "outputs": []
    },
    {
      "cell_type": "code",
      "source": [
        "workflow = StateGraph(State)\n",
        "workflow.add_node(\"categorize\", categorize)\n",
        "workflow.add_node(\"analyze_sentiment\", analyze_sentiment)\n",
        "workflow.add_node(\"handle_technical\", handle_technical)\n",
        "workflow.add_node(\"handle_billing\", handle_billing)\n",
        "workflow.add_node(\"handle_general\", handle_general)\n",
        "workflow.add_node(\"escalate\", escalate)\n",
        "\n",
        "workflow.add_conditional_edges(\n",
        "    \"analyze_sentiment\",\n",
        "    route_query,\n",
        "    {\n",
        "        \"handle_technical\": \"handle_technical\",\n",
        "        \"handle_billing\": \"handle_billing\",\n",
        "        \"handle_general\": \"handle_general\",\n",
        "        \"escalate\": \"escalate\"\n",
        "    }\n",
        ")\n",
        "\n",
        "\n",
        "workflow.add_edge(\"categorize\", \"analyze_sentiment\")\n",
        "workflow.add_edge(\"handle_technical\", END)\n",
        "workflow.add_edge(\"handle_billing\", END)\n",
        "workflow.add_edge(\"handle_general\", END)\n",
        "workflow.add_edge(\"escalate\", END)\n",
        "\n",
        "workflow.set_entry_point(\"categorize\")\n",
        "\n",
        "app = workflow.compile()"
      ],
      "metadata": {
        "id": "4AENozNPEcp5"
      },
      "execution_count": 14,
      "outputs": []
    },
    {
      "cell_type": "code",
      "source": [
        "from IPython.display import Image, display\n",
        "\n",
        "try:\n",
        "    display(Image(app.get_graph().draw_mermaid_png()))\n",
        "except Exception:\n",
        "    # This requires some extra dependencies and is optional\n",
        "    pass"
      ],
      "metadata": {
        "colab": {
          "base_uri": "https://localhost:8080/",
          "height": 449
        },
        "id": "Bvy_Mz_8XV5V",
        "outputId": "a66158de-e4fe-4117-9ef3-5ac54157a2f2"
      },
      "execution_count": 15,
      "outputs": [
        {
          "output_type": "display_data",
          "data": {
            "image/png": "[encoded data removed]",
            "text/plain": [
              "<IPython.core.display.Image object>"
            ]
          },
          "metadata": {}
        }
      ]
    },
    {
      "cell_type": "code",
      "source": [
        "def run_customer_support(query: str) -> Dict[str, str]:\n",
        "  results = app.invoke({\"query\": query})\n",
        "  return {\n",
        "      \"category\":results['category'],\n",
        "      \"sentiment\":results['sentiment'],\n",
        "      \"response\": results['response']\n",
        "  }"
      ],
      "metadata": {
        "id": "JU9fbxdeXtuL"
      },
      "execution_count": 16,
      "outputs": []
    },
    {
      "cell_type": "code",
      "source": [
        "query = \"The price value in my invoice is wrong\"\n",
        "result = run_customer_support(query)\n",
        "print(\"\\n\\n\\nComputed Result\")\n",
        "print(f\"\\nQuery: {query}\")\n",
        "print(f\"\\n\\nCategory: {result['category']}\")\n",
        "print(f\"\\n\\nSentiment: {result['sentiment']}\")\n",
        "print(f\"\\n\\nResponse: {result['response']}\")\n",
        "print(\"\\n\")"
      ],
      "metadata": {
        "colab": {
          "base_uri": "https://localhost:8080/"
        },
        "id": "K3NlaqNoaBkf",
        "outputId": "6965835c-28f8-4cf8-c02d-e34ef18c810c"
      },
      "execution_count": 21,
      "outputs": [
        {
          "output_type": "stream",
          "name": "stdout",
          "text": [
            "\n",
            "Category:I would categorize the query as: Billing\n",
            "\n",
            "Analyzing the sentiment : \n",
            "\n",
            "Sentiment : The sentiment of the customer query is: Negative\n",
            "\n",
            "Escalating Query\n",
            "\n",
            "\n",
            "\n",
            "Computed Result\n",
            "\n",
            "Query: The price value in my invoice is wrong\n",
            "\n",
            "\n",
            "Category: I would categorize the query as: Billing\n",
            "\n",
            "\n",
            "Sentiment: The sentiment of the customer query is: Negative\n",
            "\n",
            "\n",
            "Response: This query has been escalate to a human agent due to its negative sentiment\n",
            "\n",
            "\n"
          ]
        }
      ]
    },
    {
      "cell_type": "code",
      "source": [
        "query = \"my iphone isnt working\"\n",
        "result = run_customer_support(query)\n",
        "print(\"\\n\\n\\nComputed Result\")\n",
        "print(f\"\\nQuery: {query}\")\n",
        "print(f\"\\n\\nCategory: {result['category']}\")\n",
        "print(f\"\\n\\nSentiment: {result['sentiment']}\")\n",
        "print(f\"\\n\\nResponse: {result['response']}\")\n",
        "print(\"\\n\")"
      ],
      "metadata": {
        "colab": {
          "base_uri": "https://localhost:8080/"
        },
        "id": "fFqNSLN6aH1v",
        "outputId": "6ae2dbc5-14f1-4a32-dda0-f489605cdd1e"
      },
      "execution_count": 24,
      "outputs": [
        {
          "output_type": "stream",
          "name": "stdout",
          "text": [
            "\n",
            "Category:I would categorize the query as \"General\". The reason is that the query is not specific to a technical aspect or a billing issue, but rather a general problem statement about a product (iPhone) not working. It's a question that could be answered with general troubleshooting advice or possibly a request for support, but it's not related to any technical or billing context.\n",
            "\n",
            "Analyzing the sentiment : \n",
            "\n",
            "Sentiment : The sentiment of the customer query \"my iPhone isn't working\" is 'Negative'.\n",
            "\n",
            "Escalating Query\n",
            "\n",
            "\n",
            "\n",
            "Computed Result\n",
            "\n",
            "Query: my iphone isnt working\n",
            "\n",
            "\n",
            "Category: I would categorize the query as \"General\". The reason is that the query is not specific to a technical aspect or a billing issue, but rather a general problem statement about a product (iPhone) not working. It's a question that could be answered with general troubleshooting advice or possibly a request for support, but it's not related to any technical or billing context.\n",
            "\n",
            "\n",
            "Sentiment: The sentiment of the customer query \"my iPhone isn't working\" is 'Negative'.\n",
            "\n",
            "\n",
            "Response: This query has been escalate to a human agent due to its negative sentiment\n",
            "\n",
            "\n"
          ]
        }
      ]
    },
    {
      "cell_type": "code",
      "source": [],
      "metadata": {
        "id": "DHqeS-dgbmF8"
      },
      "execution_count": null,
      "outputs": []
    }
  ]
}