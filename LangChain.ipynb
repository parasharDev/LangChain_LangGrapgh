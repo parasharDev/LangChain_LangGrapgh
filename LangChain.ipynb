{
  "nbformat": 4,
  "nbformat_minor": 0,
  "metadata": {
    "colab": {
      "provenance": [],
      "authorship_tag": "ABX9TyOUG8A5Tr4d6iOdfS0qGvow"
    },
    "kernelspec": {
      "name": "python3",
      "display_name": "Python 3"
    },
    "language_info": {
      "name": "python"
    }
  },
  "cells": [
    {
      "cell_type": "code",
      "execution_count": null,
      "metadata": {
        "colab": {
          "base_uri": "https://localhost:8080/"
        },
        "id": "7swqAqv8D7dl",
        "outputId": "739cde3f-3d96-46ce-b45e-0bdf66daf6bf"
      },
      "outputs": [
        {
          "output_type": "stream",
          "name": "stdout",
          "text": [
            "Requirement already satisfied: python-dotenv in /usr/local/lib/python3.12/dist-packages (1.1.1)\n",
            "Requirement already satisfied: langchain[groq] in /usr/local/lib/python3.12/dist-packages (0.3.27)\n",
            "Requirement already satisfied: langchain-core<1.0.0,>=0.3.72 in /usr/local/lib/python3.12/dist-packages (from langchain[groq]) (0.3.77)\n",
            "Requirement already satisfied: langchain-text-splitters<1.0.0,>=0.3.9 in /usr/local/lib/python3.12/dist-packages (from langchain[groq]) (0.3.11)\n",
            "Requirement already satisfied: langsmith>=0.1.17 in /usr/local/lib/python3.12/dist-packages (from langchain[groq]) (0.4.31)\n",
            "Requirement already satisfied: pydantic<3.0.0,>=2.7.4 in /usr/local/lib/python3.12/dist-packages (from langchain[groq]) (2.11.9)\n",
            "Requirement already satisfied: SQLAlchemy<3,>=1.4 in /usr/local/lib/python3.12/dist-packages (from langchain[groq]) (2.0.43)\n",
            "Requirement already satisfied: requests<3,>=2 in /usr/local/lib/python3.12/dist-packages (from langchain[groq]) (2.32.4)\n",
            "Requirement already satisfied: PyYAML>=5.3 in /usr/local/lib/python3.12/dist-packages (from langchain[groq]) (6.0.3)\n",
            "Collecting langchain-groq (from langchain[groq])\n",
            "  Downloading langchain_groq-0.3.8-py3-none-any.whl.metadata (2.6 kB)\n",
            "Requirement already satisfied: tenacity!=8.4.0,<10.0.0,>=8.1.0 in /usr/local/lib/python3.12/dist-packages (from langchain-core<1.0.0,>=0.3.72->langchain[groq]) (8.5.0)\n",
            "Requirement already satisfied: jsonpatch<2.0.0,>=1.33.0 in /usr/local/lib/python3.12/dist-packages (from langchain-core<1.0.0,>=0.3.72->langchain[groq]) (1.33)\n",
            "Requirement already satisfied: typing-extensions<5.0.0,>=4.7.0 in /usr/local/lib/python3.12/dist-packages (from langchain-core<1.0.0,>=0.3.72->langchain[groq]) (4.15.0)\n",
            "Requirement already satisfied: packaging<26.0.0,>=23.2.0 in /usr/local/lib/python3.12/dist-packages (from langchain-core<1.0.0,>=0.3.72->langchain[groq]) (25.0)\n",
            "Requirement already satisfied: httpx<1,>=0.23.0 in /usr/local/lib/python3.12/dist-packages (from langsmith>=0.1.17->langchain[groq]) (0.28.1)\n",
            "Requirement already satisfied: orjson>=3.9.14 in /usr/local/lib/python3.12/dist-packages (from langsmith>=0.1.17->langchain[groq]) (3.11.3)\n",
            "Requirement already satisfied: requests-toolbelt>=1.0.0 in /usr/local/lib/python3.12/dist-packages (from langsmith>=0.1.17->langchain[groq]) (1.0.0)\n",
            "Requirement already satisfied: zstandard>=0.23.0 in /usr/local/lib/python3.12/dist-packages (from langsmith>=0.1.17->langchain[groq]) (0.25.0)\n",
            "Requirement already satisfied: annotated-types>=0.6.0 in /usr/local/lib/python3.12/dist-packages (from pydantic<3.0.0,>=2.7.4->langchain[groq]) (0.7.0)\n",
            "Requirement already satisfied: pydantic-core==2.33.2 in /usr/local/lib/python3.12/dist-packages (from pydantic<3.0.0,>=2.7.4->langchain[groq]) (2.33.2)\n",
            "Requirement already satisfied: typing-inspection>=0.4.0 in /usr/local/lib/python3.12/dist-packages (from pydantic<3.0.0,>=2.7.4->langchain[groq]) (0.4.2)\n",
            "Requirement already satisfied: charset_normalizer<4,>=2 in /usr/local/lib/python3.12/dist-packages (from requests<3,>=2->langchain[groq]) (3.4.3)\n",
            "Requirement already satisfied: idna<4,>=2.5 in /usr/local/lib/python3.12/dist-packages (from requests<3,>=2->langchain[groq]) (3.10)\n",
            "Requirement already satisfied: urllib3<3,>=1.21.1 in /usr/local/lib/python3.12/dist-packages (from requests<3,>=2->langchain[groq]) (2.5.0)\n",
            "Requirement already satisfied: certifi>=2017.4.17 in /usr/local/lib/python3.12/dist-packages (from requests<3,>=2->langchain[groq]) (2025.8.3)\n",
            "Requirement already satisfied: greenlet>=1 in /usr/local/lib/python3.12/dist-packages (from SQLAlchemy<3,>=1.4->langchain[groq]) (3.2.4)\n",
            "Collecting groq<1,>=0.30.0 (from langchain-groq->langchain[groq])\n",
            "  Downloading groq-0.32.0-py3-none-any.whl.metadata (16 kB)\n",
            "Requirement already satisfied: anyio<5,>=3.5.0 in /usr/local/lib/python3.12/dist-packages (from groq<1,>=0.30.0->langchain-groq->langchain[groq]) (4.11.0)\n",
            "Requirement already satisfied: distro<2,>=1.7.0 in /usr/local/lib/python3.12/dist-packages (from groq<1,>=0.30.0->langchain-groq->langchain[groq]) (1.9.0)\n",
            "Requirement already satisfied: sniffio in /usr/local/lib/python3.12/dist-packages (from groq<1,>=0.30.0->langchain-groq->langchain[groq]) (1.3.1)\n",
            "Requirement already satisfied: httpcore==1.* in /usr/local/lib/python3.12/dist-packages (from httpx<1,>=0.23.0->langsmith>=0.1.17->langchain[groq]) (1.0.9)\n",
            "Requirement already satisfied: h11>=0.16 in /usr/local/lib/python3.12/dist-packages (from httpcore==1.*->httpx<1,>=0.23.0->langsmith>=0.1.17->langchain[groq]) (0.16.0)\n",
            "Requirement already satisfied: jsonpointer>=1.9 in /usr/local/lib/python3.12/dist-packages (from jsonpatch<2.0.0,>=1.33.0->langchain-core<1.0.0,>=0.3.72->langchain[groq]) (3.0.0)\n",
            "Downloading langchain_groq-0.3.8-py3-none-any.whl (16 kB)\n",
            "Downloading groq-0.32.0-py3-none-any.whl (135 kB)\n",
            "\u001b[2K   \u001b[90m━━━━━━━━━━━━━━━━━━━━━━━━━━━━━━━━━━━━━━━━\u001b[0m \u001b[32m135.4/135.4 kB\u001b[0m \u001b[31m4.0 MB/s\u001b[0m eta \u001b[36m0:00:00\u001b[0m\n",
            "\u001b[?25hInstalling collected packages: groq, langchain-groq\n",
            "Successfully installed groq-0.32.0 langchain-groq-0.3.8\n"
          ]
        }
      ],
      "source": [
        "!pip install python-dotenv langchain[groq]\n"
      ]
    },
    {
      "cell_type": "code",
      "source": [
        "from google.colab import userdata\n",
        "import os\n",
        "\n",
        "os.environ['GROQ_API_KEY'] = userdata.get('groqApiKey')"
      ],
      "metadata": {
        "id": "3qPqO6yfD_8B"
      },
      "execution_count": null,
      "outputs": []
    },
    {
      "cell_type": "markdown",
      "source": [
        "## Interacting via chat"
      ],
      "metadata": {
        "id": "v7tWMyq8cvtD"
      }
    },
    {
      "cell_type": "code",
      "source": [
        "\n",
        "from langchain.chat_models import init_chat_model\n",
        "\n",
        "model = init_chat_model(\"llama-3.1-8b-instant\", model_provider=\"groq\")"
      ],
      "metadata": {
        "id": "K0Q1JCP0G2A1"
      },
      "execution_count": null,
      "outputs": []
    },
    {
      "cell_type": "code",
      "source": [
        "response = model.invoke(\"Explain me about neural network\")\n",
        "response.content"
      ],
      "metadata": {
        "colab": {
          "base_uri": "https://localhost:8080/",
          "height": 105
        },
        "id": "3AbB6_U2Il_k",
        "outputId": "2b800cdc-3111-4afb-9098-273a40b61f16"
      },
      "execution_count": null,
      "outputs": [
        {
          "output_type": "execute_result",
          "data": {
            "text/plain": [
              "\"**Neural Networks: An Introduction**\\n\\nA neural network is a computational model inspired by the structure and function of the human brain. It's a type of machine learning model that's capable of learning from data and making predictions or decisions based on that data.\\n\\n**Key Components of a Neural Network:**\\n\\n1. **Artificial Neurons (Nodes)**: These are the basic building blocks of a neural network. Each node represents a simple processing unit that receives input, performs a computation, and produces an output.\\n2. **Connections (Edges)**: These are the links between nodes that allow them to communicate with each other. Each connection has a weight associated with it, which determines the strength of the connection.\\n3. **Activation Functions**: These are mathematical functions that introduce non-linearity into the neural network. They help the network to learn complex relationships between inputs and outputs.\\n\\n**How a Neural Network Works:**\\n\\n1. **Input Layer**: The input layer receives the input data, which is then propagated through the network.\\n2. **Hidden Layers**: The hidden layers are where the complex processing of the input data occurs. Each node in these layers applies an activation function to its weighted sum of inputs.\\n3. **Output Layer**: The output layer produces the final output of the network.\\n\\n**Types of Neural Networks:**\\n\\n1. **Feedforward Networks**: These are the simplest type of neural network, where the data flows only in one direction, from input to output.\\n2. **Recurrent Neural Networks (RNNs)**: These are networks that have feedback connections, allowing the data to flow in a loop. RNNs are useful for tasks like speech recognition and time series prediction.\\n3. **Convolutional Neural Networks (CNNs)**: These are networks that are specifically designed for image and video processing. They use convolutional and pooling layers to extract features from the data.\\n\\n**Neural Network Training:**\\n\\nThe process of training a neural network involves adjusting the weights and biases of the connections between nodes to minimize the difference between the network's predictions and the actual values.\\n\\n**Common Neural Network Algorithms:**\\n\\n1. **Backpropagation**: This is an optimization algorithm that's commonly used for training neural networks.\\n2. **Stochastic Gradient Descent (SGD)**: This is a type of optimization algorithm that's used to minimize the loss function during training.\\n3. **Adam**: This is a popular optimization algorithm that's designed to adapt the learning rate for each parameter.\\n\\n**Real-World Applications of Neural Networks:**\\n\\n1. **Image Recognition**: Neural networks are widely used for image recognition tasks, such as object detection and facial recognition.\\n2. **Natural Language Processing (NLP)**: Neural networks are used for NLP tasks like language translation, sentiment analysis, and text classification.\\n3. **Speech Recognition**: Neural networks are used for speech recognition tasks, such as voice assistants and speech-to-text systems.\\n\\n**Code Example:**\\n\\nHere's a simple example of a neural network implemented in Python using the Keras library:\\n```python\\nfrom keras.models import Sequential\\nfrom keras.layers import Dense\\n\\n# Create the model\\nmodel = Sequential()\\nmodel.add(Dense(64, activation='relu', input_shape=(784,)))\\nmodel.add(Dense(32, activation='relu'))\\nmodel.add(Dense(10, activation='softmax'))\\n\\n# Compile the model\\nmodel.compile(optimizer='adam', loss='categorical_crossentropy', metrics=['accuracy'])\\n\\n# Train the model\\nmodel.fit(X_train, y_train, epochs=10, batch_size=128)\\n```\\nThis code creates a simple neural network with two hidden layers and trains it on a dataset using the Adam optimizer and categorical cross-entropy loss function.\\n\\nI hope this helps! Let me know if you have any questions or need further clarification.\""
            ],
            "application/vnd.google.colaboratory.intrinsic+json": {
              "type": "string"
            }
          },
          "metadata": {},
          "execution_count": 6
        }
      ]
    },
    {
      "cell_type": "code",
      "source": [
        "response = model.invoke(\"Who is the PM of India\")\n",
        "response.content"
      ],
      "metadata": {
        "colab": {
          "base_uri": "https://localhost:8080/",
          "height": 53
        },
        "id": "gcueufycNdNY",
        "outputId": "c928763c-4d92-4185-e040-aee7c8085975"
      },
      "execution_count": null,
      "outputs": [
        {
          "output_type": "execute_result",
          "data": {
            "text/plain": [
              "'As of my cut-off knowledge in 2023, the Prime Minister of India was Narendra Modi. However, please note that my knowledge may not be up-to-date, and there may have been changes since my knowledge cut-off date. \\n\\nTo get the most recent information, I suggest checking official government sources or reputable news outlets for the latest updates on the Prime Minister of India.'"
            ],
            "application/vnd.google.colaboratory.intrinsic+json": {
              "type": "string"
            }
          },
          "metadata": {},
          "execution_count": 7
        }
      ]
    },
    {
      "cell_type": "markdown",
      "source": [
        "## Intercating via Prompt Template"
      ],
      "metadata": {
        "id": "29uSKwC3doJh"
      }
    },
    {
      "cell_type": "code",
      "source": [
        "from langchain_core.prompts import PromptTemplate\n",
        "\n",
        "travel_template = PromptTemplate.from_template(\"Give me a place to visit in {place} in month {month} in one word\")\n",
        "\n",
        "prompt = travel_template.invoke({\"place\": \"Silchar\", \"month\":\"December\"})\n",
        "\n",
        "response2 = model.invoke(prompt)"
      ],
      "metadata": {
        "id": "0y2yEte3NvGQ"
      },
      "execution_count": null,
      "outputs": []
    },
    {
      "cell_type": "code",
      "source": [
        "response2.content"
      ],
      "metadata": {
        "colab": {
          "base_uri": "https://localhost:8080/",
          "height": 35
        },
        "id": "ydRhyvo3MODi",
        "outputId": "f8da1e84-1347-466d-eadb-f10a6deed680"
      },
      "execution_count": null,
      "outputs": [
        {
          "output_type": "execute_result",
          "data": {
            "text/plain": [
              "'Bhairavkunda.'"
            ],
            "application/vnd.google.colaboratory.intrinsic+json": {
              "type": "string"
            }
          },
          "metadata": {},
          "execution_count": 22
        }
      ]
    },
    {
      "cell_type": "markdown",
      "source": [
        "## Chaining"
      ],
      "metadata": {
        "id": "RL5kfPeLK41w"
      }
    },
    {
      "cell_type": "markdown",
      "source": [
        "Creating the prompt, invoking it and then parsing it is done in a simple way\n"
      ],
      "metadata": {
        "id": "Y_8RY5FwMqDr"
      }
    },
    {
      "cell_type": "code",
      "source": [
        "\n",
        "from langchain_core.output_parsers import StrOutputParser\n",
        "travel_destination_chain = travel_template | model | StrOutputParser()\n",
        "\n",
        "travel_destination_chain.invoke({\"place\": \"India\", \"month\":\"December\"})"
      ],
      "metadata": {
        "colab": {
          "base_uri": "https://localhost:8080/",
          "height": 35
        },
        "id": "PaUn2cayK9WK",
        "outputId": "69a2b1dc-acf2-448f-ef2e-66da04855042"
      },
      "execution_count": null,
      "outputs": [
        {
          "output_type": "execute_result",
          "data": {
            "text/plain": [
              "'Manali.'"
            ],
            "application/vnd.google.colaboratory.intrinsic+json": {
              "type": "string"
            }
          },
          "metadata": {},
          "execution_count": 35
        }
      ]
    },
    {
      "cell_type": "code",
      "source": [
        "travel_itinerary_prompt = PromptTemplate.from_template(\"Give me a 5 days itinerary for the place {destination}\")"
      ],
      "metadata": {
        "id": "4fMYOH99LGbs"
      },
      "execution_count": null,
      "outputs": []
    },
    {
      "cell_type": "code",
      "source": [
        "composed_chain = {\"destination\":travel_destination_chain} | travel_itinerary_prompt | model | StrOutputParser()"
      ],
      "metadata": {
        "id": "g0S4DBRWPuUU"
      },
      "execution_count": null,
      "outputs": []
    },
    {
      "cell_type": "code",
      "source": [
        "composed_chain.invoke({\"place\":\"India\",\"month\":\"November\"})"
      ],
      "metadata": {
        "colab": {
          "base_uri": "https://localhost:8080/",
          "height": 105
        },
        "id": "LYuI1EnTQpyG",
        "outputId": "c6b0019f-3774-43ca-aefb-127dfc382e37"
      },
      "execution_count": null,
      "outputs": [
        {
          "output_type": "execute_result",
          "data": {
            "text/plain": [
              "\"Rishikesh is a spiritual city in the northern Indian state of Uttarakhand, known for its scenic beauty, adventure activities, and spiritual significance. Here's a 5-day itinerary for Rishikesh:\\n\\n**Day 1: Arrival and Exploration**\\n\\n* Arrive in Rishikesh and check-in to your hotel.\\n* Visit the Lakshman Jhula, a famous suspension bridge over the Ganges River, offering stunning views of the river and the surrounding hills.\\n* Explore the nearby Swami Vivekananda Temple, which is dedicated to the memory of the famous Indian philosopher and yogi.\\n* In the evening, visit the Triveni Ghat, a sacred ghat where devotees take a holy dip in the Ganges River.\\n\\n**Day 2: Yoga and Wellness**\\n\\n* Start the day with a yoga session at one of the many yoga studios in Rishikesh. You can choose from a variety of styles, such as Hatha, Vinyasa, or Ashtanga.\\n* Visit the Parmarth Niketan Ashram, one of the largest and most famous ashrams in Rishikesh. You can attend a yoga class, take a dip in the Ganges River, or simply relax in the peaceful atmosphere.\\n* In the evening, enjoy a sunset view from the top of the hill near the Parmarth Niketan Ashram.\\n\\n**Day 3: Adventure Activities**\\n\\n* Start the day with a thrilling adventure activity, such as white water rafting, kayaking, or bungee jumping. Rishikesh is the adventure capital of India, and there are many operators offering these activities.\\n* Visit the Shivpuri Beach, a scenic spot on the Ganges River where you can relax and enjoy the views.\\n* In the evening, visit the Beatles Ashram, a famous ashram that was a favorite haunt of the Beatles in the 1960s.\\n\\n**Day 4: Sightseeing**\\n\\n* Visit the Kunjapuri Temple, a scenic temple situated on a hilltop, offering stunning views of the surrounding hills and valleys.\\n* Explore the nearby village of Tera-Manzar, known for its scenic views and traditional Indian architecture.\\n* In the evening, visit the Ganga Aarti, a sacred ceremony that takes place every evening at the Triveni Ghat.\\n\\n**Day 5: Departure**\\n\\n* Spend the morning relaxing at your hotel or exploring the local market.\\n* Visit the Vishwanath Temple, a famous temple dedicated to Lord Shiva.\\n* Depart for the airport or train station, bringing back memories of your wonderful trip to Rishikesh.\\n\\nThis itinerary provides a mix of adventure, spirituality, and cultural experiences that will make your trip to Rishikesh an unforgettable one.\""
            ],
            "application/vnd.google.colaboratory.intrinsic+json": {
              "type": "string"
            }
          },
          "metadata": {},
          "execution_count": 38
        }
      ]
    }
  ]
}